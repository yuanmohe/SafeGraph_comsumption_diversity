{
 "cells": [
  {
   "cell_type": "code",
   "execution_count": 1,
   "id": "da353217",
   "metadata": {},
   "outputs": [],
   "source": [
    "import json\n",
    "import pandas as pd\n",
    "import numpy as np\n",
    "from scipy import stats\n",
    "import matplotlib.pyplot as plt\n",
    "import seaborn as sns\n",
    "from adjustText import adjust_text"
   ]
  },
  {
   "cell_type": "code",
   "execution_count": 2,
   "id": "6ba75e5a",
   "metadata": {},
   "outputs": [],
   "source": [
    "selected_brands = pd.read_csv(\"selected_brands.csv\")"
   ]
  },
  {
   "cell_type": "markdown",
   "id": "094976c5",
   "metadata": {
    "heading_collapsed": true
   },
   "source": [
    "# read and save yelp data"
   ]
  },
  {
   "cell_type": "code",
   "execution_count": 3,
   "id": "6eca59cd",
   "metadata": {
    "hidden": true
   },
   "outputs": [],
   "source": [
    "data = []\n",
    "with open(\"../SafeGraph_data/yelp_dataset/yelp_academic_dataset_business.json\") as f:\n",
    "    for line in f:\n",
    "        aline = json.loads(line)\n",
    "        \n",
    "        try:\n",
    "            price = aline['attributes']['RestaurantsPriceRange2']\n",
    "            name = aline['name']\n",
    "            data.append([name, price])\n",
    "        except:\n",
    "            next\n",
    "\n",
    "brand_yelp = pd.DataFrame(data,  columns = ['brands', 'yelp_price'])\n",
    "brand_yelp = brand_yelp[brand_yelp['yelp_price'] != 'None']"
   ]
  },
  {
   "cell_type": "code",
   "execution_count": 4,
   "id": "8e67a243",
   "metadata": {
    "hidden": true
   },
   "outputs": [
    {
     "data": {
      "text/plain": [
       "85280"
      ]
     },
     "execution_count": 4,
     "metadata": {},
     "output_type": "execute_result"
    }
   ],
   "source": [
    "len(brand_yelp)"
   ]
  },
  {
   "cell_type": "code",
   "execution_count": 5,
   "id": "5fbf8662",
   "metadata": {
    "hidden": true
   },
   "outputs": [
    {
     "name": "stderr",
     "output_type": "stream",
     "text": [
      "/var/folders/3n/5f66kdbs79l01jvps_16tnh00000gn/T/ipykernel_29884/1825127623.py:1: DeprecationWarning: Support for non-numeric arrays has been deprecated as of SciPy 1.9.0 and will be removed in 1.11.0. `pandas.DataFrame.mode` can be used instead, see https://pandas.pydata.org/docs/reference/api/pandas.DataFrame.mode.html.\n",
      "  mode = brand_yelp.groupby('brands').apply(lambda x: stats.mode(x['yelp_price'], keepdims = False)[0][0])\n"
     ]
    }
   ],
   "source": [
    "mode = brand_yelp.groupby('brands').apply(lambda x: stats.mode(x['yelp_price'], keepdims = False)[0][0])\n",
    "brand_yelp_raw = pd.DataFrame({\"yelp_dollar\": mode})\n",
    "brand_yelp_raw = brand_yelp_raw.reset_index()"
   ]
  },
  {
   "cell_type": "code",
   "execution_count": 6,
   "id": "ff677eb6",
   "metadata": {
    "hidden": true
   },
   "outputs": [
    {
     "data": {
      "text/html": [
       "<div>\n",
       "<style scoped>\n",
       "    .dataframe tbody tr th:only-of-type {\n",
       "        vertical-align: middle;\n",
       "    }\n",
       "\n",
       "    .dataframe tbody tr th {\n",
       "        vertical-align: top;\n",
       "    }\n",
       "\n",
       "    .dataframe thead th {\n",
       "        text-align: right;\n",
       "    }\n",
       "</style>\n",
       "<table border=\"1\" class=\"dataframe\">\n",
       "  <thead>\n",
       "    <tr style=\"text-align: right;\">\n",
       "      <th></th>\n",
       "      <th>brands</th>\n",
       "      <th>yelp_dollar</th>\n",
       "    </tr>\n",
       "  </thead>\n",
       "  <tbody>\n",
       "    <tr>\n",
       "      <th>0</th>\n",
       "      <td>Joe's Throwback Barber Shop</td>\n",
       "      <td>1</td>\n",
       "    </tr>\n",
       "    <tr>\n",
       "      <th>1</th>\n",
       "      <td>Leland's Barbershop</td>\n",
       "      <td>2</td>\n",
       "    </tr>\n",
       "    <tr>\n",
       "      <th>2</th>\n",
       "      <td>\"Genuino\" Italian Cafe'</td>\n",
       "      <td>2</td>\n",
       "    </tr>\n",
       "    <tr>\n",
       "      <th>3</th>\n",
       "      <td># 1 Nail Salon</td>\n",
       "      <td>2</td>\n",
       "    </tr>\n",
       "    <tr>\n",
       "      <th>4</th>\n",
       "      <td>#1 Mongolian BBQ - Best Stir Fried Noodles In ...</td>\n",
       "      <td>2</td>\n",
       "    </tr>\n",
       "    <tr>\n",
       "      <th>...</th>\n",
       "      <td>...</td>\n",
       "      <td>...</td>\n",
       "    </tr>\n",
       "    <tr>\n",
       "      <th>60419</th>\n",
       "      <td>¡Juice!</td>\n",
       "      <td>2</td>\n",
       "    </tr>\n",
       "    <tr>\n",
       "      <th>60420</th>\n",
       "      <td>ÀLAVITA</td>\n",
       "      <td>2</td>\n",
       "    </tr>\n",
       "    <tr>\n",
       "      <th>60421</th>\n",
       "      <td>Àrdana Food &amp; Drink</td>\n",
       "      <td>2</td>\n",
       "    </tr>\n",
       "    <tr>\n",
       "      <th>60422</th>\n",
       "      <td>Éclat Chocolate</td>\n",
       "      <td>3</td>\n",
       "    </tr>\n",
       "    <tr>\n",
       "      <th>60423</th>\n",
       "      <td>éclair délicieux</td>\n",
       "      <td>2</td>\n",
       "    </tr>\n",
       "  </tbody>\n",
       "</table>\n",
       "<p>60424 rows × 2 columns</p>\n",
       "</div>"
      ],
      "text/plain": [
       "                                                  brands yelp_dollar\n",
       "0                            Joe's Throwback Barber Shop           1\n",
       "1                                    Leland's Barbershop           2\n",
       "2                                \"Genuino\" Italian Cafe'           2\n",
       "3                                         # 1 Nail Salon           2\n",
       "4      #1 Mongolian BBQ - Best Stir Fried Noodles In ...           2\n",
       "...                                                  ...         ...\n",
       "60419                                            ¡Juice!           2\n",
       "60420                                            ÀLAVITA           2\n",
       "60421                                Àrdana Food & Drink           2\n",
       "60422                                    Éclat Chocolate           3\n",
       "60423                                   éclair délicieux           2\n",
       "\n",
       "[60424 rows x 2 columns]"
      ]
     },
     "execution_count": 6,
     "metadata": {},
     "output_type": "execute_result"
    }
   ],
   "source": [
    "brand_yelp_raw"
   ]
  },
  {
   "cell_type": "code",
   "execution_count": 63,
   "id": "b5c018ea",
   "metadata": {
    "hidden": true
   },
   "outputs": [],
   "source": [
    "brand_yelp_raw.to_excel('temp_data/brand_yelp_row.xlsx', index = False)"
   ]
  },
  {
   "cell_type": "markdown",
   "id": "19068769",
   "metadata": {
    "heading_collapsed": true
   },
   "source": [
    "# match and manual labell the unlabelled"
   ]
  },
  {
   "cell_type": "code",
   "execution_count": 3,
   "id": "dd3c8542",
   "metadata": {
    "hidden": true
   },
   "outputs": [],
   "source": [
    "brand_yelp_raw = pd.read_excel('temp_data/brand_yelp_row.xlsx')"
   ]
  },
  {
   "cell_type": "code",
   "execution_count": 4,
   "id": "8890066f",
   "metadata": {
    "hidden": true
   },
   "outputs": [],
   "source": [
    "matched = pd.merge(selected_brands, brand_yelp_raw, on = 'brands')"
   ]
  },
  {
   "cell_type": "code",
   "execution_count": 5,
   "id": "9a487e19",
   "metadata": {
    "hidden": true
   },
   "outputs": [
    {
     "data": {
      "text/html": [
       "<div>\n",
       "<style scoped>\n",
       "    .dataframe tbody tr th:only-of-type {\n",
       "        vertical-align: middle;\n",
       "    }\n",
       "\n",
       "    .dataframe tbody tr th {\n",
       "        vertical-align: top;\n",
       "    }\n",
       "\n",
       "    .dataframe thead th {\n",
       "        text-align: right;\n",
       "    }\n",
       "</style>\n",
       "<table border=\"1\" class=\"dataframe\">\n",
       "  <thead>\n",
       "    <tr style=\"text-align: right;\">\n",
       "      <th></th>\n",
       "      <th>brands</th>\n",
       "      <th>yelp_dollar</th>\n",
       "    </tr>\n",
       "  </thead>\n",
       "  <tbody>\n",
       "    <tr>\n",
       "      <th>0</th>\n",
       "      <td>1-800-Flowers</td>\n",
       "      <td>2</td>\n",
       "    </tr>\n",
       "    <tr>\n",
       "      <th>1</th>\n",
       "      <td>7-Eleven</td>\n",
       "      <td>1</td>\n",
       "    </tr>\n",
       "    <tr>\n",
       "      <th>2</th>\n",
       "      <td>ALDI</td>\n",
       "      <td>1</td>\n",
       "    </tr>\n",
       "    <tr>\n",
       "      <th>3</th>\n",
       "      <td>Acme Markets</td>\n",
       "      <td>2</td>\n",
       "    </tr>\n",
       "    <tr>\n",
       "      <th>4</th>\n",
       "      <td>Allen Edmonds</td>\n",
       "      <td>3</td>\n",
       "    </tr>\n",
       "    <tr>\n",
       "      <th>...</th>\n",
       "      <td>...</td>\n",
       "      <td>...</td>\n",
       "    </tr>\n",
       "    <tr>\n",
       "      <th>363</th>\n",
       "      <td>Zara</td>\n",
       "      <td>2</td>\n",
       "    </tr>\n",
       "    <tr>\n",
       "      <th>364</th>\n",
       "      <td>Zumiez</td>\n",
       "      <td>2</td>\n",
       "    </tr>\n",
       "    <tr>\n",
       "      <th>365</th>\n",
       "      <td>honeygrow</td>\n",
       "      <td>2</td>\n",
       "    </tr>\n",
       "    <tr>\n",
       "      <th>366</th>\n",
       "      <td>lululemon athletica</td>\n",
       "      <td>3</td>\n",
       "    </tr>\n",
       "    <tr>\n",
       "      <th>367</th>\n",
       "      <td>sweetgreen</td>\n",
       "      <td>2</td>\n",
       "    </tr>\n",
       "  </tbody>\n",
       "</table>\n",
       "<p>368 rows × 2 columns</p>\n",
       "</div>"
      ],
      "text/plain": [
       "                  brands  yelp_dollar\n",
       "0          1-800-Flowers            2\n",
       "1               7-Eleven            1\n",
       "2                   ALDI            1\n",
       "3           Acme Markets            2\n",
       "4          Allen Edmonds            3\n",
       "..                   ...          ...\n",
       "363                 Zara            2\n",
       "364               Zumiez            2\n",
       "365            honeygrow            2\n",
       "366  lululemon athletica            3\n",
       "367           sweetgreen            2\n",
       "\n",
       "[368 rows x 2 columns]"
      ]
     },
     "execution_count": 5,
     "metadata": {},
     "output_type": "execute_result"
    }
   ],
   "source": [
    "matched"
   ]
  },
  {
   "cell_type": "code",
   "execution_count": 6,
   "id": "21fdd4a5",
   "metadata": {
    "hidden": true
   },
   "outputs": [
    {
     "data": {
      "text/html": [
       "<div>\n",
       "<style scoped>\n",
       "    .dataframe tbody tr th:only-of-type {\n",
       "        vertical-align: middle;\n",
       "    }\n",
       "\n",
       "    .dataframe tbody tr th {\n",
       "        vertical-align: top;\n",
       "    }\n",
       "\n",
       "    .dataframe thead th {\n",
       "        text-align: right;\n",
       "    }\n",
       "</style>\n",
       "<table border=\"1\" class=\"dataframe\">\n",
       "  <thead>\n",
       "    <tr style=\"text-align: right;\">\n",
       "      <th></th>\n",
       "      <th>brands</th>\n",
       "    </tr>\n",
       "  </thead>\n",
       "  <tbody>\n",
       "    <tr>\n",
       "      <th>0</th>\n",
       "      <td>&amp; Other Stories</td>\n",
       "    </tr>\n",
       "    <tr>\n",
       "      <th>1</th>\n",
       "      <td>&amp;pizza</td>\n",
       "    </tr>\n",
       "    <tr>\n",
       "      <th>2</th>\n",
       "      <td>10 Spot/MadRag</td>\n",
       "    </tr>\n",
       "    <tr>\n",
       "      <th>3</th>\n",
       "      <td>110 Grill</td>\n",
       "    </tr>\n",
       "    <tr>\n",
       "      <th>4</th>\n",
       "      <td>16 Handles</td>\n",
       "    </tr>\n",
       "    <tr>\n",
       "      <th>...</th>\n",
       "      <td>...</td>\n",
       "    </tr>\n",
       "    <tr>\n",
       "      <th>551</th>\n",
       "      <td>itsu</td>\n",
       "    </tr>\n",
       "    <tr>\n",
       "      <th>552</th>\n",
       "      <td>junzi</td>\n",
       "    </tr>\n",
       "    <tr>\n",
       "      <th>553</th>\n",
       "      <td>maurices</td>\n",
       "    </tr>\n",
       "    <tr>\n",
       "      <th>554</th>\n",
       "      <td>rue21</td>\n",
       "    </tr>\n",
       "    <tr>\n",
       "      <th>555</th>\n",
       "      <td>vineyard vines</td>\n",
       "    </tr>\n",
       "  </tbody>\n",
       "</table>\n",
       "<p>556 rows × 1 columns</p>\n",
       "</div>"
      ],
      "text/plain": [
       "              brands\n",
       "0    & Other Stories\n",
       "1             &pizza\n",
       "2     10 Spot/MadRag\n",
       "3          110 Grill\n",
       "4         16 Handles\n",
       "..               ...\n",
       "551             itsu\n",
       "552            junzi\n",
       "553         maurices\n",
       "554            rue21\n",
       "555   vineyard vines\n",
       "\n",
       "[556 rows x 1 columns]"
      ]
     },
     "execution_count": 6,
     "metadata": {},
     "output_type": "execute_result"
    }
   ],
   "source": [
    "unlabelled = set(selected_brands['brands']) - set(matched['brands'])\n",
    "unlabelled = pd.DataFrame({'brands': list(unlabelled)})\n",
    "unlabelled = unlabelled.sort_values('brands').reset_index(drop = True)\n",
    "unlabelled"
   ]
  },
  {
   "cell_type": "code",
   "execution_count": 25,
   "id": "4f2ce565",
   "metadata": {},
   "outputs": [],
   "source": [
    "# # save data with csv\n",
    "# unlabelled.to_csv('temp_data/unlabelled.csv', index = False)\n",
    "# # do the manual label with xlsx\n",
    "# unlabelled.to_excel('temp_data/to_manual.xlsx', index = False) "
   ]
  },
  {
   "cell_type": "markdown",
   "id": "2244e91e",
   "metadata": {},
   "source": [
    "# read in and add manual labelled data"
   ]
  },
  {
   "cell_type": "code",
   "execution_count": 7,
   "id": "45c6fa72",
   "metadata": {},
   "outputs": [],
   "source": [
    "to_manual = pd.read_excel(\"temp_data/to_manual.xlsx\")"
   ]
  },
  {
   "cell_type": "code",
   "execution_count": 8,
   "id": "f507eda9",
   "metadata": {},
   "outputs": [
    {
     "data": {
      "text/html": [
       "<div>\n",
       "<style scoped>\n",
       "    .dataframe tbody tr th:only-of-type {\n",
       "        vertical-align: middle;\n",
       "    }\n",
       "\n",
       "    .dataframe tbody tr th {\n",
       "        vertical-align: top;\n",
       "    }\n",
       "\n",
       "    .dataframe thead th {\n",
       "        text-align: right;\n",
       "    }\n",
       "</style>\n",
       "<table border=\"1\" class=\"dataframe\">\n",
       "  <thead>\n",
       "    <tr style=\"text-align: right;\">\n",
       "      <th></th>\n",
       "      <th>brands</th>\n",
       "      <th>yelp_dollar</th>\n",
       "    </tr>\n",
       "  </thead>\n",
       "  <tbody>\n",
       "    <tr>\n",
       "      <th>0</th>\n",
       "      <td>&amp; Other Stories</td>\n",
       "      <td>2.0</td>\n",
       "    </tr>\n",
       "    <tr>\n",
       "      <th>1</th>\n",
       "      <td>&amp;pizza</td>\n",
       "      <td>2.0</td>\n",
       "    </tr>\n",
       "    <tr>\n",
       "      <th>2</th>\n",
       "      <td>10 Spot/MadRag</td>\n",
       "      <td>2.0</td>\n",
       "    </tr>\n",
       "    <tr>\n",
       "      <th>3</th>\n",
       "      <td>110 Grill</td>\n",
       "      <td>2.0</td>\n",
       "    </tr>\n",
       "    <tr>\n",
       "      <th>4</th>\n",
       "      <td>16 Handles</td>\n",
       "      <td>1.0</td>\n",
       "    </tr>\n",
       "    <tr>\n",
       "      <th>...</th>\n",
       "      <td>...</td>\n",
       "      <td>...</td>\n",
       "    </tr>\n",
       "    <tr>\n",
       "      <th>551</th>\n",
       "      <td>itsu</td>\n",
       "      <td>2.0</td>\n",
       "    </tr>\n",
       "    <tr>\n",
       "      <th>552</th>\n",
       "      <td>junzi</td>\n",
       "      <td>2.0</td>\n",
       "    </tr>\n",
       "    <tr>\n",
       "      <th>553</th>\n",
       "      <td>maurices</td>\n",
       "      <td>2.0</td>\n",
       "    </tr>\n",
       "    <tr>\n",
       "      <th>554</th>\n",
       "      <td>rue21</td>\n",
       "      <td>2.0</td>\n",
       "    </tr>\n",
       "    <tr>\n",
       "      <th>555</th>\n",
       "      <td>vineyard vines</td>\n",
       "      <td>3.0</td>\n",
       "    </tr>\n",
       "  </tbody>\n",
       "</table>\n",
       "<p>556 rows × 2 columns</p>\n",
       "</div>"
      ],
      "text/plain": [
       "              brands  yelp_dollar\n",
       "0    & Other Stories          2.0\n",
       "1             &pizza          2.0\n",
       "2     10 Spot/MadRag          2.0\n",
       "3          110 Grill          2.0\n",
       "4         16 Handles          1.0\n",
       "..               ...          ...\n",
       "551             itsu          2.0\n",
       "552            junzi          2.0\n",
       "553         maurices          2.0\n",
       "554            rue21          2.0\n",
       "555   vineyard vines          3.0\n",
       "\n",
       "[556 rows x 2 columns]"
      ]
     },
     "execution_count": 8,
     "metadata": {},
     "output_type": "execute_result"
    }
   ],
   "source": [
    "to_manual"
   ]
  },
  {
   "cell_type": "code",
   "execution_count": 9,
   "id": "4ee09253",
   "metadata": {},
   "outputs": [],
   "source": [
    "yelp_labelled = pd.concat([matched, to_manual])\n",
    "yelp_labelled = yelp_labelled.sort_values('brands')"
   ]
  },
  {
   "cell_type": "code",
   "execution_count": 10,
   "id": "d7575641",
   "metadata": {},
   "outputs": [
    {
     "data": {
      "text/html": [
       "<div>\n",
       "<style scoped>\n",
       "    .dataframe tbody tr th:only-of-type {\n",
       "        vertical-align: middle;\n",
       "    }\n",
       "\n",
       "    .dataframe tbody tr th {\n",
       "        vertical-align: top;\n",
       "    }\n",
       "\n",
       "    .dataframe thead th {\n",
       "        text-align: right;\n",
       "    }\n",
       "</style>\n",
       "<table border=\"1\" class=\"dataframe\">\n",
       "  <thead>\n",
       "    <tr style=\"text-align: right;\">\n",
       "      <th></th>\n",
       "      <th>brands</th>\n",
       "      <th>yelp_dollar</th>\n",
       "    </tr>\n",
       "  </thead>\n",
       "  <tbody>\n",
       "    <tr>\n",
       "      <th>0</th>\n",
       "      <td>&amp; Other Stories</td>\n",
       "      <td>2.0</td>\n",
       "    </tr>\n",
       "    <tr>\n",
       "      <th>1</th>\n",
       "      <td>&amp;pizza</td>\n",
       "      <td>2.0</td>\n",
       "    </tr>\n",
       "    <tr>\n",
       "      <th>0</th>\n",
       "      <td>1-800-Flowers</td>\n",
       "      <td>2.0</td>\n",
       "    </tr>\n",
       "    <tr>\n",
       "      <th>2</th>\n",
       "      <td>10 Spot/MadRag</td>\n",
       "      <td>2.0</td>\n",
       "    </tr>\n",
       "    <tr>\n",
       "      <th>3</th>\n",
       "      <td>110 Grill</td>\n",
       "      <td>2.0</td>\n",
       "    </tr>\n",
       "    <tr>\n",
       "      <th>...</th>\n",
       "      <td>...</td>\n",
       "      <td>...</td>\n",
       "    </tr>\n",
       "    <tr>\n",
       "      <th>366</th>\n",
       "      <td>lululemon athletica</td>\n",
       "      <td>3.0</td>\n",
       "    </tr>\n",
       "    <tr>\n",
       "      <th>553</th>\n",
       "      <td>maurices</td>\n",
       "      <td>2.0</td>\n",
       "    </tr>\n",
       "    <tr>\n",
       "      <th>554</th>\n",
       "      <td>rue21</td>\n",
       "      <td>2.0</td>\n",
       "    </tr>\n",
       "    <tr>\n",
       "      <th>367</th>\n",
       "      <td>sweetgreen</td>\n",
       "      <td>2.0</td>\n",
       "    </tr>\n",
       "    <tr>\n",
       "      <th>555</th>\n",
       "      <td>vineyard vines</td>\n",
       "      <td>3.0</td>\n",
       "    </tr>\n",
       "  </tbody>\n",
       "</table>\n",
       "<p>924 rows × 2 columns</p>\n",
       "</div>"
      ],
      "text/plain": [
       "                  brands  yelp_dollar\n",
       "0        & Other Stories          2.0\n",
       "1                 &pizza          2.0\n",
       "0          1-800-Flowers          2.0\n",
       "2         10 Spot/MadRag          2.0\n",
       "3              110 Grill          2.0\n",
       "..                   ...          ...\n",
       "366  lululemon athletica          3.0\n",
       "553             maurices          2.0\n",
       "554                rue21          2.0\n",
       "367           sweetgreen          2.0\n",
       "555       vineyard vines          3.0\n",
       "\n",
       "[924 rows x 2 columns]"
      ]
     },
     "execution_count": 10,
     "metadata": {},
     "output_type": "execute_result"
    }
   ],
   "source": [
    "yelp_labelled"
   ]
  },
  {
   "cell_type": "code",
   "execution_count": 11,
   "id": "ad3921b4",
   "metadata": {
    "hidden": true
   },
   "outputs": [],
   "source": [
    "# yelp_labelled.to_csv(\"yelp_labelled.csv\", index = False)"
   ]
  },
  {
   "cell_type": "code",
   "execution_count": 12,
   "id": "3b48a255",
   "metadata": {},
   "outputs": [
    {
     "data": {
      "text/plain": [
       "148"
      ]
     },
     "execution_count": 12,
     "metadata": {},
     "output_type": "execute_result"
    }
   ],
   "source": [
    "sum(yelp_labelled['yelp_dollar'].isna())"
   ]
  },
  {
   "cell_type": "code",
   "execution_count": 13,
   "id": "cb584897",
   "metadata": {},
   "outputs": [
    {
     "data": {
      "text/plain": [
       "776"
      ]
     },
     "execution_count": 13,
     "metadata": {},
     "output_type": "execute_result"
    }
   ],
   "source": [
    "sum(yelp_labelled['yelp_dollar'].notna())"
   ]
  }
 ],
 "metadata": {
  "kernelspec": {
   "display_name": "Python 3 (ipykernel)",
   "language": "python",
   "name": "python3"
  },
  "language_info": {
   "codemirror_mode": {
    "name": "ipython",
    "version": 3
   },
   "file_extension": ".py",
   "mimetype": "text/x-python",
   "name": "python",
   "nbconvert_exporter": "python",
   "pygments_lexer": "ipython3",
   "version": "3.9.13"
  }
 },
 "nbformat": 4,
 "nbformat_minor": 5
}
