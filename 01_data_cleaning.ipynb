{
 "cells": [
  {
   "cell_type": "code",
   "execution_count": 1,
   "metadata": {},
   "outputs": [],
   "source": [
    "import utilities as ut\n",
    "import pandas as pd\n",
    "import numpy as np\n",
    "import json\n",
    "from scipy import stats\n",
    "from functools import reduce"
   ]
  },
  {
   "cell_type": "markdown",
   "metadata": {},
   "source": [
    "# SafeGraph data"
   ]
  },
  {
   "cell_type": "markdown",
   "metadata": {},
   "source": [
    "## Read data and drop NAs"
   ]
  },
  {
   "cell_type": "code",
   "execution_count": null,
   "metadata": {},
   "outputs": [],
   "source": [
    "NY_Oct_2019 = ut.read_raw_data('Oct2019_monthly', 'NY', 29)\n",
    "# NY_Oct_2019.to_csv('NY_Oct_2019.csv', index = False)"
   ]
  },
  {
   "cell_type": "code",
   "execution_count": 3,
   "metadata": {},
   "outputs": [],
   "source": [
    "NY_Oct_2019 = pd.read_csv('NY_Oct_2019.csv')"
   ]
  },
  {
   "cell_type": "code",
   "execution_count": 4,
   "metadata": {},
   "outputs": [
    {
     "data": {
      "text/plain": [
       "(264826, 53)"
      ]
     },
     "execution_count": 4,
     "metadata": {},
     "output_type": "execute_result"
    }
   ],
   "source": [
    "NY_Oct_2019.shape"
   ]
  },
  {
   "cell_type": "code",
   "execution_count": 5,
   "metadata": {},
   "outputs": [
    {
     "name": "stdout",
     "output_type": "stream",
     "text": [
      "number of obeservations in the New York State Data 264826\n",
      "number of top_category (4-digit NAICS code) 28\n",
      "number of sub_category (6-digit NAICS code) 78\n"
     ]
    }
   ],
   "source": [
    "print('number of obeservations in the New York State Data', len(NY_Oct_2019))\n",
    "print(\"number of top_category (4-digit NAICS code)\", len(NY_Oct_2019[\"top_category\"].unique()))\n",
    "print(\"number of sub_category (6-digit NAICS code)\", len(NY_Oct_2019[\"sub_category\"].unique()))"
   ]
  },
  {
   "cell_type": "code",
   "execution_count": null,
   "metadata": {},
   "outputs": [],
   "source": [
    "# save top_categories, 4-digit NAICS, and number of POIs in each category for reporting\n",
    "cat4n = NY_Oct_2019[[\"top_category\", 'naics_code']]\n",
    "cat4n = cat4n.assign(naic_4digits = cat4n['naics_code'].astype(\"int\").astype('str').str.slice(0,4))\n",
    "cat4n = cat4n[[\"top_category\", 'naic_4digits']].groupby([\"top_category\", 'naic_4digits']).size().to_frame()\n",
    "cat4n = cat4n.reset_index()\n",
    "cat4n.columns.values[2] = \"n_POIs\"\n",
    "cat4n = cat4n.sort_values(\"n_POIs\", ascending = False).reset_index(drop = True)\n",
    "\n",
    "cat4n.to_excel(\"Appendix/TableA1_four_digit_industries.xlsx\")"
   ]
  },
  {
   "cell_type": "code",
   "execution_count": 7,
   "metadata": {},
   "outputs": [
    {
     "name": "stdout",
     "output_type": "stream",
     "text": [
      "number of records that are labelled with brands 35588\n",
      "proportion of labelled brands 0.13438257572896922\n",
      "number of brands 1421\n"
     ]
    }
   ],
   "source": [
    "# delete the unlabelled data\n",
    "NY_brands = NY_Oct_2019.dropna(subset = ['brands'])\n",
    "print('number of records that are labelled with brands', len(NY_brands))\n",
    "print('proportion of labelled brands', len(NY_brands) / len(NY_Oct_2019))\n",
    "print('number of brands', len(pd.unique(NY_brands['brands'])))"
   ]
  },
  {
   "cell_type": "code",
   "execution_count": 8,
   "metadata": {},
   "outputs": [
    {
     "data": {
      "text/plain": [
       "{'Gambling Industries',\n",
       " 'Museums, Historical Sites, and Similar Institutions',\n",
       " 'Performing Arts Companies',\n",
       " 'Special Food Services'}"
      ]
     },
     "execution_count": 8,
     "metadata": {},
     "output_type": "execute_result"
    }
   ],
   "source": [
    "# worth noting, some categories does not have labelled brands\n",
    "set(NY_Oct_2019['top_category'].unique()) - set(NY_brands['top_category'].unique())"
   ]
  },
  {
   "cell_type": "code",
   "execution_count": 9,
   "metadata": {},
   "outputs": [
    {
     "name": "stdout",
     "output_type": "stream",
     "text": [
      "0\n",
      "0\n",
      "0\n"
     ]
    }
   ],
   "source": [
    "# showing that places with NaN for 'related_same_day_brand' also has NaN for 'raw_visit_counts', \n",
    "# and for 'visitor_home_cbgs', 'related_same_day_brand'\n",
    "# so not much can be done to inspect the missing data for 'related_same_day_brand',\n",
    "# just delete them for now\n",
    "print(sum(NY_brands['related_same_month_brand'].isna() & NY_brands['raw_visit_counts'].notna()))\n",
    "print(sum(NY_brands['related_same_month_brand'].isna() & NY_brands['visitor_home_cbgs'].notna()))\n",
    "print(sum(NY_brands['related_same_month_brand'].isna() & NY_brands['related_same_day_brand'].notna()))"
   ]
  },
  {
   "cell_type": "code",
   "execution_count": 10,
   "metadata": {},
   "outputs": [],
   "source": [
    "# drop NA and save\n",
    "NY_brands = NY_brands.dropna(subset = ['related_same_month_brand'])\n",
    "NY_brands.to_csv('NY_brands.csv', index = False)"
   ]
  },
  {
   "cell_type": "code",
   "execution_count": 11,
   "metadata": {},
   "outputs": [
    {
     "name": "stdout",
     "output_type": "stream",
     "text": [
      "number of brands: 1175\n",
      "number of rows: 24188\n"
     ]
    }
   ],
   "source": [
    "print(\"number of brands:\", len(pd.unique(NY_brands['brands'])))\n",
    "print(\"number of rows:\", len(NY_brands))"
   ]
  },
  {
   "cell_type": "markdown",
   "metadata": {},
   "source": [
    "## Unpack 'visitor_home_cbgs'\n"
   ]
  },
  {
   "cell_type": "code",
   "execution_count": 12,
   "metadata": {},
   "outputs": [
    {
     "data": {
      "text/plain": [
       "652"
      ]
     },
     "execution_count": 12,
     "metadata": {},
     "output_type": "execute_result"
    }
   ],
   "source": [
    "sum(NY_brands['visitor_home_cbgs'] == '{}')"
   ]
  },
  {
   "cell_type": "code",
   "execution_count": 13,
   "metadata": {},
   "outputs": [
    {
     "data": {
      "text/plain": [
       "23536"
      ]
     },
     "execution_count": 13,
     "metadata": {},
     "output_type": "execute_result"
    }
   ],
   "source": [
    "sum(NY_brands['visitor_home_cbgs'] != '{}')"
   ]
  },
  {
   "cell_type": "code",
   "execution_count": 4,
   "metadata": {},
   "outputs": [],
   "source": [
    "cbg_unpack = ut.unpack_home_cbgs(NY_brands)"
   ]
  },
  {
   "cell_type": "code",
   "execution_count": 5,
   "metadata": {},
   "outputs": [],
   "source": [
    "# remove cbgs in Canada\n",
    "cbg_unpack = cbg_unpack[~cbg_unpack['visitor_home_cbgs'].str.startswith(\"CA:\")]"
   ]
  },
  {
   "cell_type": "code",
   "execution_count": 6,
   "metadata": {},
   "outputs": [
    {
     "data": {
      "text/html": [
       "<div>\n",
       "<style scoped>\n",
       "    .dataframe tbody tr th:only-of-type {\n",
       "        vertical-align: middle;\n",
       "    }\n",
       "\n",
       "    .dataframe tbody tr th {\n",
       "        vertical-align: top;\n",
       "    }\n",
       "\n",
       "    .dataframe thead th {\n",
       "        text-align: right;\n",
       "    }\n",
       "</style>\n",
       "<table border=\"1\" class=\"dataframe\">\n",
       "  <thead>\n",
       "    <tr style=\"text-align: right;\">\n",
       "      <th></th>\n",
       "      <th>placekey</th>\n",
       "      <th>brands</th>\n",
       "      <th>visitor_home_cbgs</th>\n",
       "      <th>cbg_visitor_count</th>\n",
       "    </tr>\n",
       "  </thead>\n",
       "  <tbody>\n",
       "    <tr>\n",
       "      <th>0</th>\n",
       "      <td>zzw-23k@627-s8r-dgk</td>\n",
       "      <td>CVS</td>\n",
       "      <td>120330011031</td>\n",
       "      <td>4</td>\n",
       "    </tr>\n",
       "    <tr>\n",
       "      <th>1</th>\n",
       "      <td>zzw-23k@627-s8r-dgk</td>\n",
       "      <td>CVS</td>\n",
       "      <td>421010030012</td>\n",
       "      <td>4</td>\n",
       "    </tr>\n",
       "    <tr>\n",
       "      <th>2</th>\n",
       "      <td>zzw-23k@627-s8r-dgk</td>\n",
       "      <td>CVS</td>\n",
       "      <td>360810717013</td>\n",
       "      <td>4</td>\n",
       "    </tr>\n",
       "    <tr>\n",
       "      <th>3</th>\n",
       "      <td>zzw-23k@627-s8r-dgk</td>\n",
       "      <td>CVS</td>\n",
       "      <td>360810291002</td>\n",
       "      <td>4</td>\n",
       "    </tr>\n",
       "    <tr>\n",
       "      <th>4</th>\n",
       "      <td>zzw-23k@627-s8r-dgk</td>\n",
       "      <td>CVS</td>\n",
       "      <td>360470257003</td>\n",
       "      <td>4</td>\n",
       "    </tr>\n",
       "    <tr>\n",
       "      <th>...</th>\n",
       "      <td>...</td>\n",
       "      <td>...</td>\n",
       "      <td>...</td>\n",
       "      <td>...</td>\n",
       "    </tr>\n",
       "    <tr>\n",
       "      <th>1204751</th>\n",
       "      <td>22b-222@627-tn2-f4v</td>\n",
       "      <td>Gulf Oil</td>\n",
       "      <td>360811175003</td>\n",
       "      <td>4</td>\n",
       "    </tr>\n",
       "    <tr>\n",
       "      <th>1204752</th>\n",
       "      <td>22b-222@627-tn2-f4v</td>\n",
       "      <td>Gulf Oil</td>\n",
       "      <td>360594169001</td>\n",
       "      <td>4</td>\n",
       "    </tr>\n",
       "    <tr>\n",
       "      <th>1204753</th>\n",
       "      <td>22b-222@627-tn2-f4v</td>\n",
       "      <td>Gulf Oil</td>\n",
       "      <td>360595185023</td>\n",
       "      <td>4</td>\n",
       "    </tr>\n",
       "    <tr>\n",
       "      <th>1204754</th>\n",
       "      <td>22b-222@627-tn2-f4v</td>\n",
       "      <td>Gulf Oil</td>\n",
       "      <td>361031580012</td>\n",
       "      <td>4</td>\n",
       "    </tr>\n",
       "    <tr>\n",
       "      <th>1204755</th>\n",
       "      <td>22b-222@627-tn2-f4v</td>\n",
       "      <td>Gulf Oil</td>\n",
       "      <td>360810638003</td>\n",
       "      <td>4</td>\n",
       "    </tr>\n",
       "  </tbody>\n",
       "</table>\n",
       "<p>1203525 rows × 4 columns</p>\n",
       "</div>"
      ],
      "text/plain": [
       "                    placekey    brands visitor_home_cbgs  cbg_visitor_count\n",
       "0        zzw-23k@627-s8r-dgk       CVS      120330011031                  4\n",
       "1        zzw-23k@627-s8r-dgk       CVS      421010030012                  4\n",
       "2        zzw-23k@627-s8r-dgk       CVS      360810717013                  4\n",
       "3        zzw-23k@627-s8r-dgk       CVS      360810291002                  4\n",
       "4        zzw-23k@627-s8r-dgk       CVS      360470257003                  4\n",
       "...                      ...       ...               ...                ...\n",
       "1204751  22b-222@627-tn2-f4v  Gulf Oil      360811175003                  4\n",
       "1204752  22b-222@627-tn2-f4v  Gulf Oil      360594169001                  4\n",
       "1204753  22b-222@627-tn2-f4v  Gulf Oil      360595185023                  4\n",
       "1204754  22b-222@627-tn2-f4v  Gulf Oil      361031580012                  4\n",
       "1204755  22b-222@627-tn2-f4v  Gulf Oil      360810638003                  4\n",
       "\n",
       "[1203525 rows x 4 columns]"
      ]
     },
     "execution_count": 6,
     "metadata": {},
     "output_type": "execute_result"
    }
   ],
   "source": [
    "cbg_unpack"
   ]
  },
  {
   "cell_type": "code",
   "execution_count": 8,
   "metadata": {},
   "outputs": [
    {
     "data": {
      "text/plain": [
       "54307"
      ]
     },
     "execution_count": 8,
     "metadata": {},
     "output_type": "execute_result"
    }
   ],
   "source": [
    "len(cbg_unpack['visitor_home_cbgs'].unique())"
   ]
  },
  {
   "cell_type": "code",
   "execution_count": 9,
   "metadata": {},
   "outputs": [],
   "source": [
    "# cbg_unpack.to_csv('cbg_unpack.csv', index = False)"
   ]
  },
  {
   "cell_type": "markdown",
   "metadata": {},
   "source": [
    "## get covisit edgelist and matrix"
   ]
  },
  {
   "cell_type": "code",
   "execution_count": 3,
   "metadata": {},
   "outputs": [],
   "source": [
    "NY_brands = pd.read_csv('NY_brands.csv')"
   ]
  },
  {
   "cell_type": "code",
   "execution_count": 3,
   "metadata": {},
   "outputs": [
    {
     "data": {
      "text/plain": [
       "28"
      ]
     },
     "execution_count": 3,
     "metadata": {},
     "output_type": "execute_result"
    }
   ],
   "source": [
    "# some cases 'related_same_month_brand' is empty dictionary\n",
    "sum(NY_brands['related_same_month_brand'] == '{}')"
   ]
  },
  {
   "cell_type": "code",
   "execution_count": 4,
   "metadata": {},
   "outputs": [
    {
     "data": {
      "text/plain": [
       "24160"
      ]
     },
     "execution_count": 4,
     "metadata": {},
     "output_type": "execute_result"
    }
   ],
   "source": [
    "sum(NY_brands['related_same_month_brand'] != '{}')"
   ]
  },
  {
   "cell_type": "code",
   "execution_count": 5,
   "metadata": {},
   "outputs": [],
   "source": [
    "covisit_edgelist = ut.get_covisit_edgelist(NY_brands, 'related_same_month_brand')"
   ]
  },
  {
   "cell_type": "code",
   "execution_count": 6,
   "metadata": {},
   "outputs": [
    {
     "data": {
      "text/html": [
       "<div>\n",
       "<style scoped>\n",
       "    .dataframe tbody tr th:only-of-type {\n",
       "        vertical-align: middle;\n",
       "    }\n",
       "\n",
       "    .dataframe tbody tr th {\n",
       "        vertical-align: top;\n",
       "    }\n",
       "\n",
       "    .dataframe thead th {\n",
       "        text-align: right;\n",
       "    }\n",
       "</style>\n",
       "<table border=\"1\" class=\"dataframe\">\n",
       "  <thead>\n",
       "    <tr style=\"text-align: right;\">\n",
       "      <th></th>\n",
       "      <th>brands</th>\n",
       "      <th>related_same_month_brand</th>\n",
       "      <th>weight</th>\n",
       "    </tr>\n",
       "  </thead>\n",
       "  <tbody>\n",
       "    <tr>\n",
       "      <th>0</th>\n",
       "      <td>&amp; Other Stories</td>\n",
       "      <td>BP</td>\n",
       "      <td>8.707358</td>\n",
       "    </tr>\n",
       "    <tr>\n",
       "      <th>1</th>\n",
       "      <td>&amp; Other Stories</td>\n",
       "      <td>Baskin Robbins</td>\n",
       "      <td>2.515050</td>\n",
       "    </tr>\n",
       "    <tr>\n",
       "      <th>2</th>\n",
       "      <td>&amp; Other Stories</td>\n",
       "      <td>Bloomingdale's</td>\n",
       "      <td>1.836120</td>\n",
       "    </tr>\n",
       "    <tr>\n",
       "      <th>3</th>\n",
       "      <td>&amp; Other Stories</td>\n",
       "      <td>Burger King</td>\n",
       "      <td>14.270903</td>\n",
       "    </tr>\n",
       "    <tr>\n",
       "      <th>4</th>\n",
       "      <td>&amp; Other Stories</td>\n",
       "      <td>CVS</td>\n",
       "      <td>12.640468</td>\n",
       "    </tr>\n",
       "    <tr>\n",
       "      <th>...</th>\n",
       "      <td>...</td>\n",
       "      <td>...</td>\n",
       "      <td>...</td>\n",
       "    </tr>\n",
       "    <tr>\n",
       "      <th>60789</th>\n",
       "      <td>vineyard vines</td>\n",
       "      <td>Trader Joe's</td>\n",
       "      <td>0.129199</td>\n",
       "    </tr>\n",
       "    <tr>\n",
       "      <th>60790</th>\n",
       "      <td>vineyard vines</td>\n",
       "      <td>Walgreens</td>\n",
       "      <td>15.018088</td>\n",
       "    </tr>\n",
       "    <tr>\n",
       "      <th>60791</th>\n",
       "      <td>vineyard vines</td>\n",
       "      <td>Walmart</td>\n",
       "      <td>12.505168</td>\n",
       "    </tr>\n",
       "    <tr>\n",
       "      <th>60792</th>\n",
       "      <td>vineyard vines</td>\n",
       "      <td>Wendy's</td>\n",
       "      <td>6.089147</td>\n",
       "    </tr>\n",
       "    <tr>\n",
       "      <th>60793</th>\n",
       "      <td>vineyard vines</td>\n",
       "      <td>Whole Foods Market</td>\n",
       "      <td>3.418605</td>\n",
       "    </tr>\n",
       "  </tbody>\n",
       "</table>\n",
       "<p>60794 rows × 3 columns</p>\n",
       "</div>"
      ],
      "text/plain": [
       "                brands related_same_month_brand     weight\n",
       "0      & Other Stories                       BP   8.707358\n",
       "1      & Other Stories           Baskin Robbins   2.515050\n",
       "2      & Other Stories           Bloomingdale's   1.836120\n",
       "3      & Other Stories              Burger King  14.270903\n",
       "4      & Other Stories                      CVS  12.640468\n",
       "...                ...                      ...        ...\n",
       "60789   vineyard vines             Trader Joe's   0.129199\n",
       "60790   vineyard vines                Walgreens  15.018088\n",
       "60791   vineyard vines                  Walmart  12.505168\n",
       "60792   vineyard vines                  Wendy's   6.089147\n",
       "60793   vineyard vines       Whole Foods Market   3.418605\n",
       "\n",
       "[60794 rows x 3 columns]"
      ]
     },
     "execution_count": 6,
     "metadata": {},
     "output_type": "execute_result"
    }
   ],
   "source": [
    "covisit_edgelist"
   ]
  },
  {
   "cell_type": "code",
   "execution_count": 8,
   "metadata": {},
   "outputs": [],
   "source": [
    "covisit_matrix = ut.get_covisit_matrix(covisit_edgelist, 'related_same_month_brand')"
   ]
  },
  {
   "cell_type": "code",
   "execution_count": 9,
   "metadata": {},
   "outputs": [
    {
     "data": {
      "text/html": [
       "<div>\n",
       "<style scoped>\n",
       "    .dataframe tbody tr th:only-of-type {\n",
       "        vertical-align: middle;\n",
       "    }\n",
       "\n",
       "    .dataframe tbody tr th {\n",
       "        vertical-align: top;\n",
       "    }\n",
       "\n",
       "    .dataframe thead th {\n",
       "        text-align: right;\n",
       "    }\n",
       "</style>\n",
       "<table border=\"1\" class=\"dataframe\">\n",
       "  <thead>\n",
       "    <tr style=\"text-align: right;\">\n",
       "      <th>related_same_month_brand</th>\n",
       "      <th>&amp; Other Stories</th>\n",
       "      <th>&amp;pizza</th>\n",
       "      <th>1-800-Flowers</th>\n",
       "      <th>10 Spot/MadRag</th>\n",
       "      <th>16 Handles</th>\n",
       "      <th>24 Hour Fitness</th>\n",
       "      <th>2nd Wind Exercise Equipment</th>\n",
       "      <th>5 Napkin Burger</th>\n",
       "      <th>7 For All Mankind</th>\n",
       "      <th>7-Eleven</th>\n",
       "      <th>...</th>\n",
       "      <th>barre3</th>\n",
       "      <th>gorjana</th>\n",
       "      <th>honeygrow</th>\n",
       "      <th>iFly Indoor Skydiving</th>\n",
       "      <th>iLoveKickboxing</th>\n",
       "      <th>itsu</th>\n",
       "      <th>junzi</th>\n",
       "      <th>lululemon athletica</th>\n",
       "      <th>maurices</th>\n",
       "      <th>sweetgreen</th>\n",
       "    </tr>\n",
       "    <tr>\n",
       "      <th>brands</th>\n",
       "      <th></th>\n",
       "      <th></th>\n",
       "      <th></th>\n",
       "      <th></th>\n",
       "      <th></th>\n",
       "      <th></th>\n",
       "      <th></th>\n",
       "      <th></th>\n",
       "      <th></th>\n",
       "      <th></th>\n",
       "      <th></th>\n",
       "      <th></th>\n",
       "      <th></th>\n",
       "      <th></th>\n",
       "      <th></th>\n",
       "      <th></th>\n",
       "      <th></th>\n",
       "      <th></th>\n",
       "      <th></th>\n",
       "      <th></th>\n",
       "      <th></th>\n",
       "    </tr>\n",
       "  </thead>\n",
       "  <tbody>\n",
       "    <tr>\n",
       "      <th>&amp; Other Stories</th>\n",
       "      <td>1.0</td>\n",
       "      <td>0.000000</td>\n",
       "      <td>0.0</td>\n",
       "      <td>0.0</td>\n",
       "      <td>0.0</td>\n",
       "      <td>0.0</td>\n",
       "      <td>0.0</td>\n",
       "      <td>0.0</td>\n",
       "      <td>0.0</td>\n",
       "      <td>0.000000</td>\n",
       "      <td>...</td>\n",
       "      <td>0.0</td>\n",
       "      <td>0.0</td>\n",
       "      <td>0.0</td>\n",
       "      <td>0.0</td>\n",
       "      <td>0.0</td>\n",
       "      <td>0.0</td>\n",
       "      <td>0.0</td>\n",
       "      <td>0.0</td>\n",
       "      <td>0.0</td>\n",
       "      <td>0.032642</td>\n",
       "    </tr>\n",
       "    <tr>\n",
       "      <th>&amp;pizza</th>\n",
       "      <td>0.0</td>\n",
       "      <td>1.000000</td>\n",
       "      <td>0.0</td>\n",
       "      <td>0.0</td>\n",
       "      <td>0.0</td>\n",
       "      <td>0.0</td>\n",
       "      <td>0.0</td>\n",
       "      <td>0.0</td>\n",
       "      <td>0.0</td>\n",
       "      <td>0.000000</td>\n",
       "      <td>...</td>\n",
       "      <td>0.0</td>\n",
       "      <td>0.0</td>\n",
       "      <td>0.0</td>\n",
       "      <td>0.0</td>\n",
       "      <td>0.0</td>\n",
       "      <td>0.0</td>\n",
       "      <td>0.0</td>\n",
       "      <td>0.0</td>\n",
       "      <td>0.0</td>\n",
       "      <td>0.084485</td>\n",
       "    </tr>\n",
       "    <tr>\n",
       "      <th>1-800-Flowers</th>\n",
       "      <td>0.0</td>\n",
       "      <td>0.000000</td>\n",
       "      <td>1.0</td>\n",
       "      <td>0.0</td>\n",
       "      <td>0.0</td>\n",
       "      <td>0.0</td>\n",
       "      <td>0.0</td>\n",
       "      <td>0.0</td>\n",
       "      <td>0.0</td>\n",
       "      <td>0.215167</td>\n",
       "      <td>...</td>\n",
       "      <td>0.0</td>\n",
       "      <td>0.0</td>\n",
       "      <td>0.0</td>\n",
       "      <td>0.0</td>\n",
       "      <td>0.0</td>\n",
       "      <td>0.0</td>\n",
       "      <td>0.0</td>\n",
       "      <td>0.0</td>\n",
       "      <td>0.0</td>\n",
       "      <td>0.000000</td>\n",
       "    </tr>\n",
       "    <tr>\n",
       "      <th>10 Spot/MadRag</th>\n",
       "      <td>0.0</td>\n",
       "      <td>0.000000</td>\n",
       "      <td>0.0</td>\n",
       "      <td>1.0</td>\n",
       "      <td>0.0</td>\n",
       "      <td>0.0</td>\n",
       "      <td>0.0</td>\n",
       "      <td>0.0</td>\n",
       "      <td>0.0</td>\n",
       "      <td>0.000000</td>\n",
       "      <td>...</td>\n",
       "      <td>0.0</td>\n",
       "      <td>0.0</td>\n",
       "      <td>0.0</td>\n",
       "      <td>0.0</td>\n",
       "      <td>0.0</td>\n",
       "      <td>0.0</td>\n",
       "      <td>0.0</td>\n",
       "      <td>0.0</td>\n",
       "      <td>0.0</td>\n",
       "      <td>0.000000</td>\n",
       "    </tr>\n",
       "    <tr>\n",
       "      <th>110 Grill</th>\n",
       "      <td>0.0</td>\n",
       "      <td>0.000000</td>\n",
       "      <td>0.0</td>\n",
       "      <td>0.0</td>\n",
       "      <td>0.0</td>\n",
       "      <td>0.0</td>\n",
       "      <td>0.0</td>\n",
       "      <td>0.0</td>\n",
       "      <td>0.0</td>\n",
       "      <td>0.000000</td>\n",
       "      <td>...</td>\n",
       "      <td>0.0</td>\n",
       "      <td>0.0</td>\n",
       "      <td>0.0</td>\n",
       "      <td>0.0</td>\n",
       "      <td>0.0</td>\n",
       "      <td>0.0</td>\n",
       "      <td>0.0</td>\n",
       "      <td>0.0</td>\n",
       "      <td>0.0</td>\n",
       "      <td>0.000000</td>\n",
       "    </tr>\n",
       "    <tr>\n",
       "      <th>...</th>\n",
       "      <td>...</td>\n",
       "      <td>...</td>\n",
       "      <td>...</td>\n",
       "      <td>...</td>\n",
       "      <td>...</td>\n",
       "      <td>...</td>\n",
       "      <td>...</td>\n",
       "      <td>...</td>\n",
       "      <td>...</td>\n",
       "      <td>...</td>\n",
       "      <td>...</td>\n",
       "      <td>...</td>\n",
       "      <td>...</td>\n",
       "      <td>...</td>\n",
       "      <td>...</td>\n",
       "      <td>...</td>\n",
       "      <td>...</td>\n",
       "      <td>...</td>\n",
       "      <td>...</td>\n",
       "      <td>...</td>\n",
       "      <td>...</td>\n",
       "    </tr>\n",
       "    <tr>\n",
       "      <th>lululemon athletica</th>\n",
       "      <td>0.0</td>\n",
       "      <td>0.000000</td>\n",
       "      <td>0.0</td>\n",
       "      <td>0.0</td>\n",
       "      <td>0.0</td>\n",
       "      <td>0.0</td>\n",
       "      <td>0.0</td>\n",
       "      <td>0.0</td>\n",
       "      <td>0.0</td>\n",
       "      <td>0.142412</td>\n",
       "      <td>...</td>\n",
       "      <td>0.0</td>\n",
       "      <td>0.0</td>\n",
       "      <td>0.0</td>\n",
       "      <td>0.0</td>\n",
       "      <td>0.0</td>\n",
       "      <td>0.0</td>\n",
       "      <td>0.0</td>\n",
       "      <td>1.0</td>\n",
       "      <td>0.0</td>\n",
       "      <td>0.003836</td>\n",
       "    </tr>\n",
       "    <tr>\n",
       "      <th>maurices</th>\n",
       "      <td>0.0</td>\n",
       "      <td>0.000000</td>\n",
       "      <td>0.0</td>\n",
       "      <td>0.0</td>\n",
       "      <td>0.0</td>\n",
       "      <td>0.0</td>\n",
       "      <td>0.0</td>\n",
       "      <td>0.0</td>\n",
       "      <td>0.0</td>\n",
       "      <td>0.112820</td>\n",
       "      <td>...</td>\n",
       "      <td>0.0</td>\n",
       "      <td>0.0</td>\n",
       "      <td>0.0</td>\n",
       "      <td>0.0</td>\n",
       "      <td>0.0</td>\n",
       "      <td>0.0</td>\n",
       "      <td>0.0</td>\n",
       "      <td>0.0</td>\n",
       "      <td>1.0</td>\n",
       "      <td>0.000000</td>\n",
       "    </tr>\n",
       "    <tr>\n",
       "      <th>rue21</th>\n",
       "      <td>0.0</td>\n",
       "      <td>0.000000</td>\n",
       "      <td>0.0</td>\n",
       "      <td>0.0</td>\n",
       "      <td>0.0</td>\n",
       "      <td>0.0</td>\n",
       "      <td>0.0</td>\n",
       "      <td>0.0</td>\n",
       "      <td>0.0</td>\n",
       "      <td>0.089270</td>\n",
       "      <td>...</td>\n",
       "      <td>0.0</td>\n",
       "      <td>0.0</td>\n",
       "      <td>0.0</td>\n",
       "      <td>0.0</td>\n",
       "      <td>0.0</td>\n",
       "      <td>0.0</td>\n",
       "      <td>0.0</td>\n",
       "      <td>0.0</td>\n",
       "      <td>0.0</td>\n",
       "      <td>0.000000</td>\n",
       "    </tr>\n",
       "    <tr>\n",
       "      <th>sweetgreen</th>\n",
       "      <td>0.0</td>\n",
       "      <td>0.001057</td>\n",
       "      <td>0.0</td>\n",
       "      <td>0.0</td>\n",
       "      <td>0.0</td>\n",
       "      <td>0.0</td>\n",
       "      <td>0.0</td>\n",
       "      <td>0.0</td>\n",
       "      <td>0.0</td>\n",
       "      <td>0.018498</td>\n",
       "      <td>...</td>\n",
       "      <td>0.0</td>\n",
       "      <td>0.0</td>\n",
       "      <td>0.0</td>\n",
       "      <td>0.0</td>\n",
       "      <td>0.0</td>\n",
       "      <td>0.0</td>\n",
       "      <td>0.0</td>\n",
       "      <td>0.0</td>\n",
       "      <td>0.0</td>\n",
       "      <td>1.000000</td>\n",
       "    </tr>\n",
       "    <tr>\n",
       "      <th>vineyard vines</th>\n",
       "      <td>0.0</td>\n",
       "      <td>0.000000</td>\n",
       "      <td>0.0</td>\n",
       "      <td>0.0</td>\n",
       "      <td>0.0</td>\n",
       "      <td>0.0</td>\n",
       "      <td>0.0</td>\n",
       "      <td>0.0</td>\n",
       "      <td>0.0</td>\n",
       "      <td>0.083359</td>\n",
       "      <td>...</td>\n",
       "      <td>0.0</td>\n",
       "      <td>0.0</td>\n",
       "      <td>0.0</td>\n",
       "      <td>0.0</td>\n",
       "      <td>0.0</td>\n",
       "      <td>0.0</td>\n",
       "      <td>0.0</td>\n",
       "      <td>0.0</td>\n",
       "      <td>0.0</td>\n",
       "      <td>0.000000</td>\n",
       "    </tr>\n",
       "  </tbody>\n",
       "</table>\n",
       "<p>1174 rows × 850 columns</p>\n",
       "</div>"
      ],
      "text/plain": [
       "related_same_month_brand  & Other Stories    &pizza  1-800-Flowers  \\\n",
       "brands                                                               \n",
       "& Other Stories                       1.0  0.000000            0.0   \n",
       "&pizza                                0.0  1.000000            0.0   \n",
       "1-800-Flowers                         0.0  0.000000            1.0   \n",
       "10 Spot/MadRag                        0.0  0.000000            0.0   \n",
       "110 Grill                             0.0  0.000000            0.0   \n",
       "...                                   ...       ...            ...   \n",
       "lululemon athletica                   0.0  0.000000            0.0   \n",
       "maurices                              0.0  0.000000            0.0   \n",
       "rue21                                 0.0  0.000000            0.0   \n",
       "sweetgreen                            0.0  0.001057            0.0   \n",
       "vineyard vines                        0.0  0.000000            0.0   \n",
       "\n",
       "related_same_month_brand  10 Spot/MadRag  16 Handles  24 Hour Fitness  \\\n",
       "brands                                                                  \n",
       "& Other Stories                      0.0         0.0              0.0   \n",
       "&pizza                               0.0         0.0              0.0   \n",
       "1-800-Flowers                        0.0         0.0              0.0   \n",
       "10 Spot/MadRag                       1.0         0.0              0.0   \n",
       "110 Grill                            0.0         0.0              0.0   \n",
       "...                                  ...         ...              ...   \n",
       "lululemon athletica                  0.0         0.0              0.0   \n",
       "maurices                             0.0         0.0              0.0   \n",
       "rue21                                0.0         0.0              0.0   \n",
       "sweetgreen                           0.0         0.0              0.0   \n",
       "vineyard vines                       0.0         0.0              0.0   \n",
       "\n",
       "related_same_month_brand  2nd Wind Exercise Equipment  5 Napkin Burger  \\\n",
       "brands                                                                   \n",
       "& Other Stories                                   0.0              0.0   \n",
       "&pizza                                            0.0              0.0   \n",
       "1-800-Flowers                                     0.0              0.0   \n",
       "10 Spot/MadRag                                    0.0              0.0   \n",
       "110 Grill                                         0.0              0.0   \n",
       "...                                               ...              ...   \n",
       "lululemon athletica                               0.0              0.0   \n",
       "maurices                                          0.0              0.0   \n",
       "rue21                                             0.0              0.0   \n",
       "sweetgreen                                        0.0              0.0   \n",
       "vineyard vines                                    0.0              0.0   \n",
       "\n",
       "related_same_month_brand  7 For All Mankind  7-Eleven  ...  barre3  gorjana  \\\n",
       "brands                                                 ...                    \n",
       "& Other Stories                         0.0  0.000000  ...     0.0      0.0   \n",
       "&pizza                                  0.0  0.000000  ...     0.0      0.0   \n",
       "1-800-Flowers                           0.0  0.215167  ...     0.0      0.0   \n",
       "10 Spot/MadRag                          0.0  0.000000  ...     0.0      0.0   \n",
       "110 Grill                               0.0  0.000000  ...     0.0      0.0   \n",
       "...                                     ...       ...  ...     ...      ...   \n",
       "lululemon athletica                     0.0  0.142412  ...     0.0      0.0   \n",
       "maurices                                0.0  0.112820  ...     0.0      0.0   \n",
       "rue21                                   0.0  0.089270  ...     0.0      0.0   \n",
       "sweetgreen                              0.0  0.018498  ...     0.0      0.0   \n",
       "vineyard vines                          0.0  0.083359  ...     0.0      0.0   \n",
       "\n",
       "related_same_month_brand  honeygrow  iFly Indoor Skydiving  iLoveKickboxing  \\\n",
       "brands                                                                        \n",
       "& Other Stories                 0.0                    0.0              0.0   \n",
       "&pizza                          0.0                    0.0              0.0   \n",
       "1-800-Flowers                   0.0                    0.0              0.0   \n",
       "10 Spot/MadRag                  0.0                    0.0              0.0   \n",
       "110 Grill                       0.0                    0.0              0.0   \n",
       "...                             ...                    ...              ...   \n",
       "lululemon athletica             0.0                    0.0              0.0   \n",
       "maurices                        0.0                    0.0              0.0   \n",
       "rue21                           0.0                    0.0              0.0   \n",
       "sweetgreen                      0.0                    0.0              0.0   \n",
       "vineyard vines                  0.0                    0.0              0.0   \n",
       "\n",
       "related_same_month_brand  itsu  junzi  lululemon athletica  maurices  \\\n",
       "brands                                                                 \n",
       "& Other Stories            0.0    0.0                  0.0       0.0   \n",
       "&pizza                     0.0    0.0                  0.0       0.0   \n",
       "1-800-Flowers              0.0    0.0                  0.0       0.0   \n",
       "10 Spot/MadRag             0.0    0.0                  0.0       0.0   \n",
       "110 Grill                  0.0    0.0                  0.0       0.0   \n",
       "...                        ...    ...                  ...       ...   \n",
       "lululemon athletica        0.0    0.0                  1.0       0.0   \n",
       "maurices                   0.0    0.0                  0.0       1.0   \n",
       "rue21                      0.0    0.0                  0.0       0.0   \n",
       "sweetgreen                 0.0    0.0                  0.0       0.0   \n",
       "vineyard vines             0.0    0.0                  0.0       0.0   \n",
       "\n",
       "related_same_month_brand  sweetgreen  \n",
       "brands                                \n",
       "& Other Stories             0.032642  \n",
       "&pizza                      0.084485  \n",
       "1-800-Flowers               0.000000  \n",
       "10 Spot/MadRag              0.000000  \n",
       "110 Grill                   0.000000  \n",
       "...                              ...  \n",
       "lululemon athletica         0.003836  \n",
       "maurices                    0.000000  \n",
       "rue21                       0.000000  \n",
       "sweetgreen                  1.000000  \n",
       "vineyard vines              0.000000  \n",
       "\n",
       "[1174 rows x 850 columns]"
      ]
     },
     "execution_count": 9,
     "metadata": {},
     "output_type": "execute_result"
    }
   ],
   "source": [
    "covisit_matrix"
   ]
  },
  {
   "cell_type": "code",
   "execution_count": 12,
   "metadata": {},
   "outputs": [],
   "source": [
    "covisit_edgelist.to_csv('covisit_edgelist.csv', index = False)\n",
    "covisit_matrix.to_csv('covisit_matrix.csv', index = False)"
   ]
  },
  {
   "cell_type": "markdown",
   "metadata": {},
   "source": [
    "### noting outliers\n",
    "\n",
    "'Spaghetti Warehouse Restaurant' have empty 'related_same_day_brand'."
   ]
  },
  {
   "cell_type": "code",
   "execution_count": 13,
   "metadata": {},
   "outputs": [
    {
     "data": {
      "text/plain": [
       "{'Spaghetti Warehouse Restaurant'}"
      ]
     },
     "execution_count": 13,
     "metadata": {},
     "output_type": "execute_result"
    }
   ],
   "source": [
    "set(pd.unique(NY_brands['brands'])) - set(pd.unique(covisit_edgelist['brands']))"
   ]
  },
  {
   "cell_type": "code",
   "execution_count": 14,
   "metadata": {},
   "outputs": [
    {
     "data": {
      "text/plain": [
       "20078    {}\n",
       "Name: related_same_day_brand, dtype: object"
      ]
     },
     "execution_count": 14,
     "metadata": {},
     "output_type": "execute_result"
    }
   ],
   "source": [
    "NY_brands[NY_brands['brands'] == 'Spaghetti Warehouse Restaurant']['related_same_day_brand']"
   ]
  },
  {
   "cell_type": "markdown",
   "metadata": {},
   "source": [
    "## get brand info"
   ]
  },
  {
   "cell_type": "code",
   "execution_count": null,
   "metadata": {},
   "outputs": [],
   "source": [
    "brand_cat = ut.get_brand_cat(NY_brands)\n",
    "# brand_cat.to_csv('brand_cat.csv', index = False)"
   ]
  },
  {
   "cell_type": "markdown",
   "metadata": {},
   "source": [
    "# census data"
   ]
  },
  {
   "cell_type": "markdown",
   "metadata": {},
   "source": [
    "## median household income of cbgs"
   ]
  },
  {
   "cell_type": "markdown",
   "metadata": {},
   "source": [
    "- B19013e1: Median Household Income In The Past 12 Months (In 2019 Inflation-Adjusted Dollars)"
   ]
  },
  {
   "cell_type": "code",
   "execution_count": 2,
   "metadata": {},
   "outputs": [],
   "source": [
    "cbg_income = pd.read_csv('../SafeGraph_data/safegraph_open_census_data_2019/data/cbg_b19.csv', \n",
    "                         usecols = ['census_block_group','B19013e1'], dtype = {'census_block_group': str})\n",
    "cbg_income = cbg_income.rename(columns={'census_block_group': 'cbg', 'B19013e1': 'income'})"
   ]
  },
  {
   "cell_type": "code",
   "execution_count": 15,
   "metadata": {},
   "outputs": [],
   "source": [
    "# cbg_income.to_csv('cbg_income.csv', index = False)"
   ]
  },
  {
   "cell_type": "markdown",
   "metadata": {},
   "source": [
    "## other demographic variables"
   ]
  },
  {
   "cell_type": "markdown",
   "metadata": {},
   "source": [
    "### income variability "
   ]
  },
  {
   "cell_type": "markdown",
   "metadata": {},
   "source": [
    "- B19013m1: margin of error of median income\n",
    "- magin of error = 1.645 SE https://www.census.gov/data/academy/webinars/2020/calculating-margins-of-error-acs.html"
   ]
  },
  {
   "cell_type": "code",
   "execution_count": 6,
   "metadata": {},
   "outputs": [],
   "source": [
    "cbg_incomeMOE = pd.read_csv('../SafeGraph_data/safegraph_open_census_data_2019/data/cbg_b19.csv', \n",
    "                         usecols = ['census_block_group', 'B19013m1'], dtype = {'census_block_group': str})\n",
    "cbg_incomeMOE = cbg_incomeMOE.rename(columns={'census_block_group': 'cbg', 'B19013m1': 'income_moe'})"
   ]
  },
  {
   "cell_type": "markdown",
   "metadata": {},
   "source": [
    "### education: Educational Attainment For The Population 25 Years And Over\n",
    "- B15003e1: Total population\n",
    "- B15003e5: 1st grade\n",
    "- B15003e6: 2nd grade\n",
    "- B15003e7: 3rd grade\n",
    "- B15003e8: 4th grade\n",
    "- B15003e9: 5th grade\n",
    "- B15003e10: 6th grade\n",
    "- B15003e11: 7th grade\n",
    "- B15003e12: 8th grade\n",
    "- B15003e13: 9th grade\n",
    "- B15003e14: 10th grade\n",
    "- B15003e15: 11th grade\n",
    "- B15003e16: 12th grade no diploma\n",
    "- B15003e17: Regular high school diploma\n",
    "- B15003e18: GED or alternative credential\n",
    "- B15003e19: Some college less than 1 year\n",
    "- B15003e20: Some college 1 or more years no degree\n",
    "- B15003e21: Associate's degree\n",
    "- B15003e22: Bachelor's degree\n",
    "- B15003e23: Master's degree\n",
    "- B15003e24: Professional school degree\n",
    "- B15003e25: Doctorate degree"
   ]
  },
  {
   "cell_type": "code",
   "execution_count": 7,
   "metadata": {},
   "outputs": [],
   "source": [
    "edu_cols = [f'B15003e{i}' for i in range(5, 26)]\n",
    "cbg_edu = pd.read_csv('../SafeGraph_data/safegraph_open_census_data_2019/data/cbg_b15.csv', \n",
    "                         usecols = ['census_block_group','B15003e1'] + edu_cols, dtype = {'census_block_group': str})\n",
    "cbg_edu[\"bachelor_or_higher\"] = cbg_edu[['B15003e22', 'B15003e23','B15003e24','B15003e25']].sum(axis = 1) / cbg_edu['B15003e1']\n",
    "\n",
    "# get weighted year of education with different weights for different levels of education\n",
    "weights = np.append(np.arange(1, 13), [12, 12, 13, 14, 14, 16, 18, 19, 21])\n",
    "cbg_edu['years_edu_weighted'] = np.sum(cbg_edu[edu_cols] * weights, axis=1) / cbg_edu['B15003e1']\n",
    "cbg_edu = cbg_edu.rename(columns={'census_block_group': 'cbg'})\n",
    "cbg_edu = cbg_edu[['cbg', 'bachelor_or_higher', 'years_edu_weighted']].dropna()"
   ]
  },
  {
   "cell_type": "code",
   "execution_count": 8,
   "metadata": {},
   "outputs": [
    {
     "data": {
      "text/plain": [
       "(0.8878647232606229, 0.0)"
      ]
     },
     "execution_count": 8,
     "metadata": {},
     "output_type": "execute_result"
    }
   ],
   "source": [
    "stats.pearsonr(cbg_edu['bachelor_or_higher'], cbg_edu['years_edu_weighted'])"
   ]
  },
  {
   "cell_type": "code",
   "execution_count": 9,
   "metadata": {},
   "outputs": [],
   "source": [
    "# cbg_edu.to_csv('cbg_edu.csv', index = False)"
   ]
  },
  {
   "cell_type": "markdown",
   "metadata": {},
   "source": [
    "### Age and sex\n",
    "- 'B01001e1': Total population\n",
    "- 'B01001e2': Male\n",
    "- 'B01001e26': Female\n",
    "- 'B01002e1': median age"
   ]
  },
  {
   "cell_type": "code",
   "execution_count": 10,
   "metadata": {},
   "outputs": [],
   "source": [
    "cbg_age_sex = pd.read_csv('../SafeGraph_data/safegraph_open_census_data_2019/data/cbg_b01.csv',\n",
    "                          usecols = ['census_block_group', 'B01001e1', 'B01001e2', 'B01001e26', 'B01002e1'],\n",
    "                          dtype = {'census_block_group': str})"
   ]
  },
  {
   "cell_type": "code",
   "execution_count": 11,
   "metadata": {},
   "outputs": [],
   "source": [
    "cbg_age_sex[\"male_proportion\"] = cbg_age_sex['B01001e2'] / cbg_age_sex['B01001e1']\n",
    "cbg_age_sex = cbg_age_sex.rename(columns={'census_block_group': 'cbg', 'B01002e1': 'median_age'})\n",
    "cbg_age_sex = cbg_age_sex[['cbg', 'median_age', 'male_proportion']]"
   ]
  },
  {
   "cell_type": "markdown",
   "metadata": {},
   "source": [
    "### Race\n",
    "- 'B02001e1': total population\n",
    "- 'B02001e2': white alone"
   ]
  },
  {
   "cell_type": "code",
   "execution_count": 12,
   "metadata": {},
   "outputs": [],
   "source": [
    "cbg_race = pd.read_csv('../SafeGraph_data/safegraph_open_census_data_2019/data/cbg_b02.csv',\n",
    "                          usecols = ['census_block_group', 'B02001e1', 'B02001e2'], \n",
    "                          dtype = {'census_block_group': str})"
   ]
  },
  {
   "cell_type": "code",
   "execution_count": 13,
   "metadata": {},
   "outputs": [],
   "source": [
    "cbg_race['white_proportion'] = cbg_race['B02001e2'] / cbg_race['B02001e1']\n",
    "cbg_race = cbg_race.rename(columns={'census_block_group': 'cbg'})\n",
    "cbg_race = cbg_race[['cbg', 'white_proportion']]\n"
   ]
  },
  {
   "cell_type": "markdown",
   "metadata": {},
   "source": [
    "## combine all"
   ]
  },
  {
   "cell_type": "code",
   "execution_count": 15,
   "metadata": {},
   "outputs": [],
   "source": [
    "cbg_stats = reduce(lambda left,right: pd.merge(left, right, on = 'cbg', how = 'outer'),\n",
    "                  [cbg_income, cbg_incomeMOE, cbg_edu, cbg_age_sex, cbg_race])"
   ]
  },
  {
   "cell_type": "code",
   "execution_count": 16,
   "metadata": {},
   "outputs": [
    {
     "data": {
      "text/html": [
       "<div>\n",
       "<style scoped>\n",
       "    .dataframe tbody tr th:only-of-type {\n",
       "        vertical-align: middle;\n",
       "    }\n",
       "\n",
       "    .dataframe tbody tr th {\n",
       "        vertical-align: top;\n",
       "    }\n",
       "\n",
       "    .dataframe thead th {\n",
       "        text-align: right;\n",
       "    }\n",
       "</style>\n",
       "<table border=\"1\" class=\"dataframe\">\n",
       "  <thead>\n",
       "    <tr style=\"text-align: right;\">\n",
       "      <th></th>\n",
       "      <th>cbg</th>\n",
       "      <th>income</th>\n",
       "      <th>income_moe</th>\n",
       "      <th>bachelor_or_higher</th>\n",
       "      <th>years_edu_weighted</th>\n",
       "      <th>median_age</th>\n",
       "      <th>male_proportion</th>\n",
       "      <th>white_proportion</th>\n",
       "    </tr>\n",
       "  </thead>\n",
       "  <tbody>\n",
       "    <tr>\n",
       "      <th>0</th>\n",
       "      <td>010010201001</td>\n",
       "      <td>35703.0</td>\n",
       "      <td>19018.0</td>\n",
       "      <td>0.178431</td>\n",
       "      <td>12.958824</td>\n",
       "      <td>43.3</td>\n",
       "      <td>0.401370</td>\n",
       "      <td>0.839726</td>\n",
       "    </tr>\n",
       "    <tr>\n",
       "      <th>1</th>\n",
       "      <td>010010201002</td>\n",
       "      <td>79000.0</td>\n",
       "      <td>12191.0</td>\n",
       "      <td>0.329643</td>\n",
       "      <td>13.755228</td>\n",
       "      <td>38.2</td>\n",
       "      <td>0.486144</td>\n",
       "      <td>0.848773</td>\n",
       "    </tr>\n",
       "    <tr>\n",
       "      <th>2</th>\n",
       "      <td>010010202001</td>\n",
       "      <td>26500.0</td>\n",
       "      <td>20685.0</td>\n",
       "      <td>0.095764</td>\n",
       "      <td>12.607735</td>\n",
       "      <td>38.7</td>\n",
       "      <td>0.470659</td>\n",
       "      <td>0.330539</td>\n",
       "    </tr>\n",
       "    <tr>\n",
       "      <th>3</th>\n",
       "      <td>010010202002</td>\n",
       "      <td>51042.0</td>\n",
       "      <td>4251.0</td>\n",
       "      <td>0.218605</td>\n",
       "      <td>12.977907</td>\n",
       "      <td>42.9</td>\n",
       "      <td>0.591637</td>\n",
       "      <td>0.429715</td>\n",
       "    </tr>\n",
       "    <tr>\n",
       "      <th>4</th>\n",
       "      <td>010010203001</td>\n",
       "      <td>59048.0</td>\n",
       "      <td>8926.0</td>\n",
       "      <td>0.196517</td>\n",
       "      <td>13.050249</td>\n",
       "      <td>37.3</td>\n",
       "      <td>0.512978</td>\n",
       "      <td>0.672675</td>\n",
       "    </tr>\n",
       "    <tr>\n",
       "      <th>...</th>\n",
       "      <td>...</td>\n",
       "      <td>...</td>\n",
       "      <td>...</td>\n",
       "      <td>...</td>\n",
       "      <td>...</td>\n",
       "      <td>...</td>\n",
       "      <td>...</td>\n",
       "      <td>...</td>\n",
       "    </tr>\n",
       "    <tr>\n",
       "      <th>220328</th>\n",
       "      <td>560459511001</td>\n",
       "      <td>53398.0</td>\n",
       "      <td>20196.0</td>\n",
       "      <td>0.215190</td>\n",
       "      <td>13.265823</td>\n",
       "      <td>45.3</td>\n",
       "      <td>0.506207</td>\n",
       "      <td>0.929655</td>\n",
       "    </tr>\n",
       "    <tr>\n",
       "      <th>220329</th>\n",
       "      <td>560459511002</td>\n",
       "      <td>51985.0</td>\n",
       "      <td>17010.0</td>\n",
       "      <td>0.207962</td>\n",
       "      <td>13.580645</td>\n",
       "      <td>50.5</td>\n",
       "      <td>0.605206</td>\n",
       "      <td>0.976681</td>\n",
       "    </tr>\n",
       "    <tr>\n",
       "      <th>220330</th>\n",
       "      <td>560459513001</td>\n",
       "      <td>44760.0</td>\n",
       "      <td>22878.0</td>\n",
       "      <td>0.127002</td>\n",
       "      <td>13.192220</td>\n",
       "      <td>35.5</td>\n",
       "      <td>0.541857</td>\n",
       "      <td>0.985540</td>\n",
       "    </tr>\n",
       "    <tr>\n",
       "      <th>220331</th>\n",
       "      <td>560459513002</td>\n",
       "      <td>59300.0</td>\n",
       "      <td>14716.0</td>\n",
       "      <td>0.189904</td>\n",
       "      <td>13.181490</td>\n",
       "      <td>44.5</td>\n",
       "      <td>0.475086</td>\n",
       "      <td>0.984536</td>\n",
       "    </tr>\n",
       "    <tr>\n",
       "      <th>220332</th>\n",
       "      <td>560459513003</td>\n",
       "      <td>87500.0</td>\n",
       "      <td>33028.0</td>\n",
       "      <td>0.248606</td>\n",
       "      <td>13.691193</td>\n",
       "      <td>41.6</td>\n",
       "      <td>0.472984</td>\n",
       "      <td>1.000000</td>\n",
       "    </tr>\n",
       "  </tbody>\n",
       "</table>\n",
       "<p>220333 rows × 8 columns</p>\n",
       "</div>"
      ],
      "text/plain": [
       "                 cbg   income  income_moe  bachelor_or_higher  \\\n",
       "0       010010201001  35703.0     19018.0            0.178431   \n",
       "1       010010201002  79000.0     12191.0            0.329643   \n",
       "2       010010202001  26500.0     20685.0            0.095764   \n",
       "3       010010202002  51042.0      4251.0            0.218605   \n",
       "4       010010203001  59048.0      8926.0            0.196517   \n",
       "...              ...      ...         ...                 ...   \n",
       "220328  560459511001  53398.0     20196.0            0.215190   \n",
       "220329  560459511002  51985.0     17010.0            0.207962   \n",
       "220330  560459513001  44760.0     22878.0            0.127002   \n",
       "220331  560459513002  59300.0     14716.0            0.189904   \n",
       "220332  560459513003  87500.0     33028.0            0.248606   \n",
       "\n",
       "        years_edu_weighted  median_age  male_proportion  white_proportion  \n",
       "0                12.958824        43.3         0.401370          0.839726  \n",
       "1                13.755228        38.2         0.486144          0.848773  \n",
       "2                12.607735        38.7         0.470659          0.330539  \n",
       "3                12.977907        42.9         0.591637          0.429715  \n",
       "4                13.050249        37.3         0.512978          0.672675  \n",
       "...                    ...         ...              ...               ...  \n",
       "220328           13.265823        45.3         0.506207          0.929655  \n",
       "220329           13.580645        50.5         0.605206          0.976681  \n",
       "220330           13.192220        35.5         0.541857          0.985540  \n",
       "220331           13.181490        44.5         0.475086          0.984536  \n",
       "220332           13.691193        41.6         0.472984          1.000000  \n",
       "\n",
       "[220333 rows x 8 columns]"
      ]
     },
     "execution_count": 16,
     "metadata": {},
     "output_type": "execute_result"
    }
   ],
   "source": [
    "cbg_stats"
   ]
  },
  {
   "cell_type": "code",
   "execution_count": 17,
   "metadata": {},
   "outputs": [
    {
     "data": {
      "text/plain": [
       "cbg                      0\n",
       "income                8299\n",
       "income_moe            9131\n",
       "bachelor_or_higher    1178\n",
       "years_edu_weighted    1178\n",
       "median_age            1190\n",
       "male_proportion       1117\n",
       "white_proportion      1117\n",
       "dtype: int64"
      ]
     },
     "execution_count": 17,
     "metadata": {},
     "output_type": "execute_result"
    }
   ],
   "source": [
    "cbg_stats.isna().sum()"
   ]
  },
  {
   "cell_type": "code",
   "execution_count": 18,
   "metadata": {},
   "outputs": [],
   "source": [
    "# cbg_stats.to_csv('cbg_stats.csv', index = False)"
   ]
  }
 ],
 "metadata": {
  "kernelspec": {
   "display_name": "base",
   "language": "python",
   "name": "python3"
  },
  "language_info": {
   "codemirror_mode": {
    "name": "ipython",
    "version": 3
   },
   "file_extension": ".py",
   "mimetype": "text/x-python",
   "name": "python",
   "nbconvert_exporter": "python",
   "pygments_lexer": "ipython3",
   "version": "3.9.13"
  },
  "orig_nbformat": 4
 },
 "nbformat": 4,
 "nbformat_minor": 2
}
